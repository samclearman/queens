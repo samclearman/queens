{
  "nbformat": 4,
  "nbformat_minor": 0,
  "metadata": {
    "colab": {
      "provenance": [],
      "collapsed_sections": [],
      "authorship_tag": "ABX9TyPVPt45vYu05n1i/9LhKARc",
      "include_colab_link": true
    },
    "kernelspec": {
      "name": "python3",
      "display_name": "Python 3"
    },
    "language_info": {
      "name": "python"
    }
  },
  "cells": [
    {
      "cell_type": "markdown",
      "metadata": {
        "id": "view-in-github",
        "colab_type": "text"
      },
      "source": [
        "<a href=\"https://colab.research.google.com/github/samclearman/queens/blob/main/quens.ipynb\" target=\"_parent\"><img src=\"https://colab.research.google.com/assets/colab-badge.svg\" alt=\"Open In Colab\"/></a>"
      ]
    },
    {
      "cell_type": "code",
      "source": [
        "#@title\n",
        "import matplotlib.pyplot as plt\n",
        "import numpy as np\n",
        "\n",
        "FIGSIZE = 10\n",
        "PHI = 1.618033988749894\n",
        "\n",
        "def draw_board(positions, infinite=True, n=None):\n",
        "  if not n:\n",
        "    n = max(len(positions), max(sum(positions, [])) + 1)\n",
        "\n",
        "  # Set up the plot\n",
        "  fig, ax = plt.subplots(figsize=(FIGSIZE, FIGSIZE))\n",
        "  if infinite:\n",
        "    ax.spines['top'].set_visible(False)\n",
        "    ax.spines['right'].set_visible(False)\n",
        "  ax.set(xticks=[], yticks=[])\n",
        "\n",
        "  # Draw a chessboard\n",
        "  board = np.zeros((n,n,3))\n",
        "  board += 0.5 # \"Black\" color. Can also be a sequence of r,g,b with values 0-1.\n",
        "  board[::2, ::2] = 1 # \"White\" color\n",
        "  board[1::2, 1::2] = 1 # \"White\" color\n",
        "  ax.imshow(board, interpolation='nearest', origin='lower')\n",
        "\n",
        "  # Draw the queens\n",
        "  for x,y  in positions:\n",
        "    ax.text(y,\n",
        "            x,\n",
        "            u'\\u2655',\n",
        "            size=FIGSIZE * 50 / n,\n",
        "            ha='center',\n",
        "            va='center')\n",
        "\n",
        "  plt.show()\n",
        "\n",
        "def plot(positions, lines=False):\n",
        "  n = max(len(positions), max([t[1] for t in positions]) + 1)\n",
        "  fig, ax = plt.subplots(figsize=(FIGSIZE, FIGSIZE))\n",
        "  ax.set(xticks=[], yticks=[])\n",
        "  ax.set_xlim(0, n)\n",
        "  ax.set_ylim(0, n)\n",
        "  ax.spines['top'].set_visible(False)\n",
        "  ax.spines['right'].set_visible(False)\n",
        "  if lines:\n",
        "    x = np.linspace(0, n, 1000)\n",
        "    ax.plot(x, PHI * x, 'r-'); \n",
        "    ax.plot(x, (1 / PHI) * x, 'r-'); \n",
        "  plt.scatter([t[1] for t in positions], [t[0] for t in positions])"
      ],
      "metadata": {
        "id": "YPkKWyQ2zDdI",
        "cellView": "form"
      },
      "execution_count": null,
      "outputs": []
    },
    {
      "cell_type": "markdown",
      "source": [
        "# The Infinite Queens Conjecture\n",
        "\n",
        "##  Classical Queens\n",
        "\n",
        "A classical problem in combinatorics concerns _non-attacking queen arrangements_: ways of positioning _n_ queens on an _n_ by _n_ chess board so that none of the queens can capture any of the others.\n",
        "\n",
        "Can this be done on an 8 by 8 board?  It turns out, the answer is yes:\n",
        "\n"
      ],
      "metadata": {
        "id": "oiM5_zCwPhDx"
      }
    },
    {
      "cell_type": "code",
      "source": [
        "positions = [list(t) for t in enumerate([1, 5, 7, 2, 0, 3, 6, 4])]\n",
        "draw_board(positions, False)"
      ],
      "metadata": {
        "id": "aDyc19FasQWV"
      },
      "execution_count": null,
      "outputs": []
    },
    {
      "cell_type": "markdown",
      "source": [
        "In fact it's always possible for _n_ > 3.  A classical, and as it turns out quite difficult question is, how many ways can it be done (as a function of _n_)?  This problem was recently (Simkin 2021, if anyone wants to read this paper together let me know!) more or less solved.\n",
        "\n",
        "But what happens if we try using an infinite chessboard?  Specifically, we'll consider a chessboard extending infinitely up and to the right.\n",
        "\n",
        "It's pretty obvious that we can place infinitely many queens on our infinite chessboard in a nonattacking configuration.  A slightly more interesting question is, can we do it while occupying every row and column?  (This is  analagous to the classical _n_ queens problem.)\n",
        "\n",
        "The most obvious approach is the greedy one:  We'll go row by row, and place each queen as far to the left as possible without breaking the nonattacking constraint:\n",
        "\n"
      ],
      "metadata": {
        "id": "xxxC6lnQxYBI"
      }
    },
    {
      "cell_type": "code",
      "source": [
        "def can_attack(p,q):\n",
        "    if p[0] == q[0]:\n",
        "        return True\n",
        "    if p[1] == q[1]:\n",
        "        return True\n",
        "    if abs(q[0] - p[0]) == abs(q[1] - p[1]):\n",
        "        return True\n",
        "    return False\n",
        "\n",
        "\n",
        "def greedy_queens(n):\n",
        "    r = []\n",
        "    for x in range(n):\n",
        "        y = 0 \n",
        "        while any([can_attack((x,y),p) for p in r]):\n",
        "            y += 1\n",
        "        r += [(x,y)]\n",
        "    return r"
      ],
      "metadata": {
        "id": "M0w21anIP9qR"
      },
      "execution_count": null,
      "outputs": []
    },
    {
      "cell_type": "code",
      "source": [
        "draw_board(greedy_queens(1), True, 10 )"
      ],
      "metadata": {
        "id": "dqNAt4GczQ6L"
      },
      "execution_count": null,
      "outputs": []
    },
    {
      "cell_type": "code",
      "source": [
        "draw_board(greedy_queens(2), True, 10 )"
      ],
      "metadata": {
        "id": "4Oy6UL5v0ed6"
      },
      "execution_count": null,
      "outputs": []
    },
    {
      "cell_type": "code",
      "source": [
        "draw_board(greedy_queens(3), True, 10 )"
      ],
      "metadata": {
        "id": "Dg6pfU-50e23"
      },
      "execution_count": null,
      "outputs": []
    },
    {
      "cell_type": "code",
      "source": [
        "draw_board(greedy_queens(4), True, 10 )"
      ],
      "metadata": {
        "id": "EGjFKH320fDc"
      },
      "execution_count": null,
      "outputs": []
    },
    {
      "cell_type": "code",
      "source": [
        "draw_board(greedy_queens(5), True, 10 )"
      ],
      "metadata": {
        "id": "wbumhA1O0fRf"
      },
      "execution_count": null,
      "outputs": []
    },
    {
      "cell_type": "code",
      "source": [
        "draw_board(greedy_queens(6), True, 10 )"
      ],
      "metadata": {
        "id": "hxND2qLz0fd-"
      },
      "execution_count": null,
      "outputs": []
    },
    {
      "cell_type": "code",
      "source": [
        "plot(greedy_queens(20))"
      ],
      "metadata": {
        "id": "m_VLMYQY2dxP"
      },
      "execution_count": null,
      "outputs": []
    },
    {
      "cell_type": "code",
      "source": [
        "plot(greedy_queens(100))"
      ],
      "metadata": {
        "id": "zXWjzRwOG-Vf"
      },
      "execution_count": null,
      "outputs": []
    },
    {
      "cell_type": "code",
      "source": [
        "plot(greedy_queens(100), True)"
      ],
      "metadata": {
        "id": "R4mMSoVmHQVI"
      },
      "execution_count": null,
      "outputs": []
    }
  ]
}